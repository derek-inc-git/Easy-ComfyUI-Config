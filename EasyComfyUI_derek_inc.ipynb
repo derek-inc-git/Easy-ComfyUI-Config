{
  "nbformat": 4,
  "nbformat_minor": 0,
  "metadata": {
    "colab": {
      "provenance": [],
      "gpuType": "T4",
      "include_colab_link": true
    },
    "kernelspec": {
      "name": "python3",
      "display_name": "Python 3"
    },
    "language_info": {
      "name": "python"
    },
    "gpuClass": "standard",
    "accelerator": "GPU"
  },
  "cells": [
    {
      "cell_type": "markdown",
      "metadata": {
        "id": "view-in-github",
        "colab_type": "text"
      },
      "source": [
        "<a href=\"https://colab.research.google.com/github/derek-inc-git/Easy-ComfyUI-Config/blob/main/EasyComfyUI_derek_inc.ipynb\" target=\"_parent\"><img src=\"https://colab.research.google.com/assets/colab-badge.svg\" alt=\"Open In Colab\"/></a>"
      ]
    },
    {
      "cell_type": "markdown",
      "source": [
        "#\"Easy ComfyUI\" by [@derek_inc](https://www.youtube.com/@derek_inc)\n",
        "1. Все обработанные картинки будут отправляться на Google Drive в папку `EasyCUI-Output`. По желанию можно изменить.\n",
        "2. Не нужно открывать код и что-либо менять, если не разбираешься! А если знаешь, как исправить, напиши мне в соцсети.\n",
        "\n",
        "`Конфиг:` [GitHub](https://github.com/derek-inc-git/Easy-ComfyUI-Config/releases) - [Discord](https://discord.gg/bjHc3tbPuN) `Модели:` [Civitai](https://civitai.com) - [Hugging Face](https://huggingface.co) `Апскейлы:` [Icedrive](https://icedrive.net/s/43GNBihZyi) - [GitHub](https://github.com/xinntao/Real-ESRGAN)"
      ],
      "metadata": {
        "id": "QM6dJvhcQIlW"
      }
    },
    {
      "cell_type": "code",
      "source": [
        "#@title Подготовка:\n",
        "\n",
        "output_folder=\"EasyCUI-Output\"#@param{type:\"string\"}\n",
        "cache_models=False#@param{type:\"boolean\"}\n",
        "\n",
        "from google.colab import drive\n",
        "drive.mount(\"/content/drive\")\n",
        "\n",
        "if cache_models==True:\n",
        "  %cd \"/content/drive/MyDrive/\"\n",
        "  !git clone https://github.com/comfyanonymous/ComfyUI\n",
        "  %cd \"/content/drive/MyDrive/ComfyUI\"\n",
        "  !git pull\n",
        "else:\n",
        "  !git clone https://github.com/comfyanonymous/ComfyUI\n",
        "  %cd \"./ComfyUI\"\n",
        "\n",
        "!pip install xformers -r requirements.txt"
      ],
      "metadata": {
        "id": "QYy1l0ulQOd_",
        "cellView": "form"
      },
      "execution_count": null,
      "outputs": []
    },
    {
      "cell_type": "code",
      "source": [
        "#@title Загрузка моделей:\n",
        "\n",
        "checkpoint_url=\"\"#@param{type:\"string\"}\n",
        "checkpoint_name=\"\"#@param{type:\"string\"}\n",
        "ckeckpoint_format=\"safetensors\"#@param[\"safetensors\",\"ckpt\"]\n",
        "#@markdown -\n",
        "lora_url=\"\"#@param{type:\"string\"}\n",
        "lora_name=\"\"#@param{type:\"string\"}\n",
        "#@markdown -\n",
        "vae_url=\"\"#@param{type:\"string\"}\n",
        "vae_name=\"\"#@param{type:\"string\"}\n",
        "vae_format=\"safetensors\"#@param[\"safetensors\",\"ckpt\",\"pt\"]\n",
        "#@markdown -\n",
        "embeddings_url=\"\"#@param{type:\"string\"}\n",
        "embeddings_name=\"\"#@param{type:\"string\"}\n",
        "#@markdown -\n",
        "controlnet=\"openpose\"#@param[\"canny\",\"depth\",\"hed\",\"mlsd\",\"normal\",\"openpose\",\"scribble\",\"seg\"]\n",
        "#@markdown -\n",
        "upscale_link=\"\"#@param{type:\"string\"}\n",
        "upscale_name=\"\"#@param{type:\"string\"}\n",
        "\n",
        "!wget -c {checkpoint_url} -O \"./models/checkpoints/{checkpoint_name}\".{ckeckpoint_format}\n",
        "!wget -c {lora_url} -O \"./models/loras/{lora_name}\".safetensors\n",
        "!wget -c {vae_url} -O \"./models/vae/{vae_name}\".safetensors\n",
        "!wget -c {embeddings_url} -O \"./models/embeddings/{embeddings_name}\".pt\n",
        "!wget -c \"https://huggingface.co/lllyasviel/ControlNet/resolve/main/models/control_sd15_{controlnet}.pth\" -P \"./models/controlnet/\"\n",
        "!wget -c {upscale_link} -O \"./models/upscale_models/{upscale_name}\".pth\n",
        "\n"
      ],
      "metadata": {
        "id": "86Jnwvt4QOWY",
        "cellView": "form"
      },
      "execution_count": null,
      "outputs": []
    },
    {
      "cell_type": "code",
      "source": [
        "#@title Локальный сервер & Google Colab\n",
        "\n",
        "local=True#@param{type:\"boolean\"}\n",
        "colab=False#@param{type:\"boolean\"}\n",
        "\n",
        "import subprocess\n",
        "import threading\n",
        "import socket\n",
        "\n",
        "if local==True:\n",
        " !npm install -g localtunnel\n",
        " def iframe_thread(port):\n",
        "   while True:\n",
        "       sock = socket.socket(socket.AF_INET, socket.SOCK_STREAM)\n",
        "       result = sock.connect_ex(('127.0.0.1', port))\n",
        "       if result == 0:\n",
        "         break\n",
        "       sock.close()\n",
        "   p = subprocess.Popen([\"lt\", \"--port\", \"{}\".format(port)], stdout=subprocess.PIPE)\n",
        "   for line in p.stdout:\n",
        "     print(line.decode(), end='')\n",
        "     print(IP: )\n",
        "     !curl ipv4.icanhazip.com\n",
        "if colab==True:\n",
        " def iframe_thread(port):\n",
        "   while True:\n",
        "       sock = socket.socket(socket.AF_INET, socket.SOCK_STREAM)\n",
        "       result = sock.connect_ex(('127.0.0.1', port))\n",
        "       if result == 0:\n",
        "         break\n",
        "       sock.close()\n",
        "   from google.colab import output\n",
        "   output.serve_kernel_port_as_iframe(port, height=1024)\n",
        "   output.serve_kernel_port_as_window(port)\n",
        "\n",
        "threading.Thread(target=iframe_thread, daemon=True, args=(8188,)).start()\n",
        "!python main.py --dont-print-server --output-directory \"/content/drive/MyDrive/{output_folder}\""
      ],
      "metadata": {
        "id": "yz0Y6T3KQVvM",
        "cellView": "form"
      },
      "execution_count": null,
      "outputs": []
    }
  ]
}